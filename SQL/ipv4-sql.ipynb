{
 "cells": [
  {
   "cell_type": "markdown",
   "id": "a05a3d67",
   "metadata": {},
   "source": [
    "# Creating and Manipulating IPv4 Address Database using MySQL and Python"
   ]
  },
  {
   "cell_type": "markdown",
   "id": "9e4b0003",
   "metadata": {},
   "source": [
    "### Introduction"
   ]
  },
  {
   "cell_type": "markdown",
   "id": "37854171",
   "metadata": {},
   "source": [
    "In this blog/project, we will be learning how to manipulate databases in MySQL with Python! The database that will be manipulated will be one that contains various IPv4 addresses.\n",
    "\n",
    "Python DB-API is Python's standard for working with databases and supports a variety of database servers such as mySQL, PostgreSQL, Microsoft SQL Server, and Oracle. \n",
    "\n",
    "MySQLdb is a module within Python that connects the database API to the MySQL database server and allows for communication.\n",
    "\n",
    "To import the library, the following import function can be used:"
   ]
  },
  {
   "cell_type": "code",
   "execution_count": null,
   "id": "5a0497bc",
   "metadata": {},
   "outputs": [],
   "source": [
    "import MySQLdb"
   ]
  },
  {
   "cell_type": "markdown",
   "id": "f891a960",
   "metadata": {},
   "source": [
    "To open up a database connection using MySQLdb, the following *basic* \n",
    "syntax can be used when creating a function for it:"
   ]
  },
  {
   "cell_type": "code",
   "execution_count": null,
   "id": "ff670e92",
   "metadata": {},
   "outputs": [],
   "source": [
    "db = MySQLdb.connect(host, username, passwd, dbName)"
   ]
  },
  {
   "cell_type": "markdown",
   "id": "c9a4212b",
   "metadata": {},
   "source": [
    "To view more advanced paramaters, you can visit [this link](https://mysqlclient.readthedocs.io/user_guide.html#mysqldb-mysql)."
   ]
  },
  {
   "cell_type": "markdown",
   "id": "26fc145a",
   "metadata": {},
   "source": [
    "To pass on SQL queries, a cursor must be created first."
   ]
  },
  {
   "cell_type": "code",
   "execution_count": null,
   "id": "90cd0ada",
   "metadata": {},
   "outputs": [],
   "source": [
    "cursor = db.cursor"
   ]
  },
  {
   "cell_type": "markdown",
   "id": "bb4a68f7",
   "metadata": {},
   "source": [
    "From here, SQL queries can be executed. The example below passes on a query to create a database named \"Example\""
   ]
  },
  {
   "cell_type": "code",
   "execution_count": null,
   "id": "cc531a18",
   "metadata": {},
   "outputs": [],
   "source": [
    "cursor.execute(\"CREATE DATABASE EXAMPLE\")"
   ]
  },
  {
   "cell_type": "markdown",
   "id": "af71b385",
   "metadata": {},
   "source": [
    "### Database Creation"
   ]
  },
  {
   "cell_type": "markdown",
   "id": "9947e994",
   "metadata": {},
   "source": [
    "Now that some of the basics have been covered, we can create a sample database with some IPs!\n",
    "To initialize the database, the first four lines of code will be as shown below."
   ]
  },
  {
   "cell_type": "code",
   "execution_count": null,
   "id": "986242ba",
   "metadata": {},
   "outputs": [],
   "source": [
    "import MySQLdb\n",
    "db = MySQLdb.connect(host, username, passwd)\n",
    "cursor = db.cursor\n",
    "cursor.execute(\"CREATE DATABASE IPV4\")"
   ]
  },
  {
   "cell_type": "markdown",
   "id": "18dd5585",
   "metadata": {},
   "source": [
    "Now that the database has been created, tables can be created within the database. In this example, only one table will be used called ip_table. It will also have three variables being ip_address, subnet_mask, and gateway."
   ]
  },
  {
   "cell_type": "code",
   "execution_count": null,
   "id": "cd46d0ec",
   "metadata": {},
   "outputs": [],
   "source": [
    "table_query = \"CREATE TABLE ip_table(\n",
    "                ip_address VARCHAR(15),\n",
    "                subnet_mask VARCHAR(15),\n",
    "                gateway VARCHAR(15));\"\n",
    "\n",
    "cursor.execute(table_query)"
   ]
  },
  {
   "cell_type": "markdown",
   "id": "64ae8497",
   "metadata": {},
   "source": [
    "The above query will create an empty table that looks similar as below."
   ]
  },
  {
   "cell_type": "markdown",
   "id": "84c3b857",
   "metadata": {},
   "source": [
    "|ip_address|subnet_mask|gateway|\n",
    "|---|---|---|\n",
    "| | | |"
   ]
  },
  {
   "cell_type": "markdown",
   "id": "eaa1aadd",
   "metadata": {},
   "source": [
    "Now that the table has been created, some entries can then be inserted into the table as shown in the following query. Note that in order to push the changes to the table, the record would have to be commited as shown below as well."
   ]
  },
  {
   "cell_type": "code",
   "execution_count": null,
   "id": "8be60a14",
   "metadata": {},
   "outputs": [],
   "source": [
    "insert_query = \"INSERT INTO ip_table\n",
    "                (ip_address, subnet_mask, gateway)\n",
    "                VALUES ('192.168.1.50', '255.255.0.0', '192.168.1.1'),\n",
    "                ('172.16.1.60', '255.240.0.0', '172.16.0.1'),\n",
    "                ('10.1.1.70', '255.0.0.0', '10.0.0.1')\"\n",
    "                \n",
    "cursor.execute(insert_query)\n",
    "db.commit()"
   ]
  },
  {
   "cell_type": "markdown",
   "id": "01e705a9",
   "metadata": {},
   "source": [
    "The above query will create a table that looks as below."
   ]
  },
  {
   "cell_type": "markdown",
   "id": "f96074fc",
   "metadata": {},
   "source": [
    "|ip_address|subnet_mask|gateway|\n",
    "|---|---|---|\n",
    "|192.168.1.50|255.255.0.0|192.168.1.1|\n",
    "|172.16.1.60|255.240.0.0|172.16.0.1|\n",
    "|10.1.1.70|255.0.0.0|10.0.0.1|"
   ]
  },
  {
   "cell_type": "markdown",
   "id": "8f11fe8b",
   "metadata": {},
   "source": [
    "If you wanted to print all of the records to a Python terminal, the following query can be ran to select the table followed by the print function"
   ]
  },
  {
   "cell_type": "code",
   "execution_count": null,
   "id": "bcb05b95",
   "metadata": {},
   "outputs": [],
   "source": [
    "select_query = \"SELECT * FROM ip_table\"\n",
    "cursor.execute(select_query)\n",
    "records = cursor.fetchall()\n",
    "\n",
    "for x in records:\n",
    "    print(x)"
   ]
  },
  {
   "cell_type": "markdown",
   "id": "3190373f",
   "metadata": {},
   "source": [
    "### Database Manipulation"
   ]
  },
  {
   "cell_type": "markdown",
   "id": "08729102",
   "metadata": {},
   "source": [
    "Updating records in a table is the same process as what we have worked with previously to run queries. The following query will update the ip_address \"192.168.1.50\" to be \"192.168.2.50\"."
   ]
  },
  {
   "cell_type": "code",
   "execution_count": null,
   "id": "77732c0d",
   "metadata": {},
   "outputs": [],
   "source": [
    "update_query = \"UPDATE ip_table SET ip_address = \"192.168.2.50\" WHERE ip_address = \"192.168.1.50\"\"\n",
    "cursor.execute(update_query)\n",
    "db.commit()"
   ]
  },
  {
   "cell_type": "markdown",
   "id": "b713cd57",
   "metadata": {},
   "source": [
    "The table will now look as shown below."
   ]
  },
  {
   "cell_type": "markdown",
   "id": "a7932b6f",
   "metadata": {},
   "source": [
    "|ip_address|subnet_mask|gateway|\n",
    "|---|---|---|\n",
    "|192.168.2.50|255.255.0.0|192.168.1.1|\n",
    "|172.16.1.60|255.240.0.0|172.16.0.1|\n",
    "|10.1.1.70|255.0.0.0|10.0.0.1|"
   ]
  },
  {
   "cell_type": "markdown",
   "id": "6800e865",
   "metadata": {},
   "source": [
    "If these IP addresses were to be sorted by number, it can be done through the following query."
   ]
  },
  {
   "cell_type": "code",
   "execution_count": null,
   "id": "f26fdf1c",
   "metadata": {},
   "outputs": [],
   "source": [
    "SELECT ip_address FROM ip_table ORDER BY ip_address"
   ]
  },
  {
   "cell_type": "markdown",
   "id": "9b1988a1",
   "metadata": {},
   "source": [
    "The following result would be obtained."
   ]
  },
  {
   "cell_type": "markdown",
   "id": "e8d1b336",
   "metadata": {},
   "source": [
    "|ip_address|\n",
    "|---|\n",
    "|10.1.1.70|\n",
    "|172.16.1.60|\n",
    "|192.168.2.50|"
   ]
  },
  {
   "cell_type": "markdown",
   "id": "dec5b409",
   "metadata": {},
   "source": [
    "Records can also be deleted through the same method we have used. An example is shown below."
   ]
  },
  {
   "cell_type": "code",
   "execution_count": null,
   "id": "672437e4",
   "metadata": {},
   "outputs": [],
   "source": [
    "delete_query = \"DELETE FROM ip_table WHERE ip_address = \"10.1.1.70\"\"\"\n",
    "cursor.execute(delete_query)\n",
    "db.commit()"
   ]
  },
  {
   "cell_type": "markdown",
   "id": "d37e4b47",
   "metadata": {},
   "source": [
    "### Conclusion"
   ]
  },
  {
   "cell_type": "markdown",
   "id": "05781760",
   "metadata": {},
   "source": [
    "Once your program has completed, you will want to disconnect from the server using the following function."
   ]
  },
  {
   "cell_type": "code",
   "execution_count": null,
   "id": "0106d619",
   "metadata": {},
   "outputs": [],
   "source": [
    "db.close()"
   ]
  },
  {
   "cell_type": "markdown",
   "id": "402ab931",
   "metadata": {},
   "source": [
    "While Python has its many uses, its functionality to connect with SQL databases is pretty simple. Even though there are more efficient languages to do this with such as JavaScript and PHP, it was fun to learn and it seems as if Python could have some use for database manipulation when it comes to smaller sized databases and queries. I hope you enjoyed the tutorial!"
   ]
  },
  {
   "cell_type": "markdown",
   "id": "5272f2b9",
   "metadata": {},
   "source": [
    "Ryan"
   ]
  }
 ],
 "metadata": {
  "kernelspec": {
   "display_name": "Python 3 (ipykernel)",
   "language": "python",
   "name": "python3"
  },
  "language_info": {
   "codemirror_mode": {
    "name": "ipython",
    "version": 3
   },
   "file_extension": ".py",
   "mimetype": "text/x-python",
   "name": "python",
   "nbconvert_exporter": "python",
   "pygments_lexer": "ipython3",
   "version": "3.8.8rc1"
  }
 },
 "nbformat": 4,
 "nbformat_minor": 5
}
